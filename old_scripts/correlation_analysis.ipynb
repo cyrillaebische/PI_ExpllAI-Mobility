{
 "cells": [
  {
   "cell_type": "code",
   "execution_count": 11,
   "id": "1e920530",
   "metadata": {},
   "outputs": [],
   "source": [
    "import pandas as pd\n",
    "import ast\n",
    "import numpy as np\n"
   ]
  },
  {
   "cell_type": "code",
   "execution_count": 2,
   "id": "0562713a",
   "metadata": {},
   "outputs": [
    {
     "name": "stdout",
     "output_type": "stream",
     "text": [
      "                   interpolated_complete_payerne.csv  \\\n",
      "0  {'Method': 'spearman', 'Results':             ...   \n",
      "1  {'Method': 'pearson', 'Results':              ...   \n",
      "2  {'Method': 'dtw', 'Results': array([[     0.  ...   \n",
      "3  {'Method': 'granger', 'Results': [{'cause': 'T...   \n",
      "\n",
      "                    interpolated_complete_lugano.csv  \\\n",
      "0  {'Method': 'spearman', 'Results':             ...   \n",
      "1  {'Method': 'pearson', 'Results':              ...   \n",
      "2  {'Method': 'dtw', 'Results': array([[     0.  ...   \n",
      "3  {'Method': 'granger', 'Results': [{'cause': 'T...   \n",
      "\n",
      "                  interpolated_complete_camorino.csv  \\\n",
      "0  {'Method': 'spearman', 'Results':             ...   \n",
      "1  {'Method': 'pearson', 'Results':              ...   \n",
      "2  {'Method': 'dtw', 'Results': array([[         ...   \n",
      "3  {'Method': 'granger', 'Results': [{'cause': 'T...   \n",
      "\n",
      "                     interpolated_complete_aigle.csv  \\\n",
      "0  {'Method': 'spearman', 'Results':             ...   \n",
      "1  {'Method': 'pearson', 'Results':              ...   \n",
      "2  {'Method': 'dtw', 'Results': array([[         ...   \n",
      "3  {'Method': 'granger', 'Results': [{'cause': 'T...   \n",
      "\n",
      "                     interpolated_complete_basel.csv  \\\n",
      "0  {'Method': 'spearman', 'Results':             ...   \n",
      "1  {'Method': 'pearson', 'Results':              ...   \n",
      "2  {'Method': 'dtw', 'Results': array([[0.0000000...   \n",
      "3  {'Method': 'granger', 'Results': [{'cause': 'T...   \n",
      "\n",
      "                  interpolated_complete_fribourg.csv  \n",
      "0  {'Method': 'spearman', 'Results':             ...  \n",
      "1  {'Method': 'pearson', 'Results':              ...  \n",
      "2  {'Method': 'dtw', 'Results': array([[0.0000000...  \n",
      "3  {'Method': 'granger', 'Results': [{'cause': 'T...  \n"
     ]
    }
   ],
   "source": [
    "# Load the CSV file\n",
    "df = pd.read_csv(\"data/results/all_corr_results.csv\")\n",
    "print(df.head())\n"
   ]
  },
  {
   "cell_type": "code",
   "execution_count": 8,
   "id": "2dbe64d8",
   "metadata": {},
   "outputs": [
    {
     "name": "stdout",
     "output_type": "stream",
     "text": [
      "DTW cell content: {'Method': 'dtw', 'Results': array([[     0.        , 729653.24111496],\n",
      "       [729653.24111496,      0.        ]])}\n",
      "DTW cell type: <class 'str'>\n"
     ]
    }
   ],
   "source": [
    "\n",
    "\n",
    "# Step 1: Identify the column name (Lugano station)\n",
    "station = \"interpolated_complete_lugano.csv\"\n",
    "\n",
    "# Step 2: DTW is in row 2 (index 2)\n",
    "dtw_cell = df.loc[2, station]\n",
    "print(f\"DTW cell content: {dtw_cell}\")\n",
    "print(f\"DTW cell type: {type(dtw_cell)}\")\n"
   ]
  },
  {
   "cell_type": "code",
   "execution_count": 13,
   "id": "a151612e",
   "metadata": {},
   "outputs": [
    {
     "name": "stdout",
     "output_type": "stream",
     "text": [
      "DTW results: [[     0.         729653.24111496]\n",
      " [729653.24111496      0.        ]]\n"
     ]
    }
   ],
   "source": [
    "# Step 3: Sanitize and parse the dictionary\n",
    "dtw_cell_cleaned = dtw_cell.replace(\"³\", \"^3\")  # Optional, to avoid issues\n",
    "safe_globals = {\"__builtins__\": {}, \"array\": np.array}\n",
    "\n",
    "# Evaluate the string safely\n",
    "dtw_dict = eval(dtw_cell_cleaned, safe_globals)\n",
    "\n",
    "# Step 4: Extract just the result (the DTW matrix)\n",
    "dtw_results = dtw_dict[\"Results\"]\n",
    "print(f\"DTW results: {dtw_results}\")\n"
   ]
  },
  {
   "cell_type": "code",
   "execution_count": 16,
   "id": "95a3ed47",
   "metadata": {},
   "outputs": [],
   "source": [
    "df = pd.read_csv(\"data/results/all_corr_results.csv\")\n",
    "\n",
    "methods = ['spearman', 'pearson', 'dtw', 'granger']\n",
    "method_indices = {name: i for i, name in enumerate(methods)}  # dict: 'dtw' → 2\n",
    "\n",
    "def get_results(station, method):\n",
    "    \"\"\"\n",
    "    Get the results for a specific station and method.\n",
    "    \"\"\"\n",
    "    method_idx = method_indices[method.lower()]\n",
    "    dtw_cell = df.loc[method_idx, station]\n",
    "    \n",
    "    dtw_cell_cleaned = dtw_cell.replace(\"³\", \"^3\")  # Optional, to avoid issues\n",
    "    safe_globals = {\"__builtins__\": {}, \"array\": np.array, \"nan\": np.nan,\"NaN\": np.nan }\n",
    "    dtw_dict = eval(dtw_cell_cleaned, safe_globals)\n",
    "    dtw_results = dtw_dict[\"Results\"]\n",
    "    \n",
    "    return dtw_results"
   ]
  },
  {
   "cell_type": "code",
   "execution_count": 23,
   "id": "f68be222",
   "metadata": {},
   "outputs": [
    {
     "ename": "SyntaxError",
     "evalue": "invalid syntax. Perhaps you forgot a comma? (<string>, line 1)",
     "output_type": "error",
     "traceback": [
      "Traceback \u001b[0;36m(most recent call last)\u001b[0m:\n",
      "\u001b[0m  File \u001b[1;32m~/.local/lib/python3.10/site-packages/IPython/core/interactiveshell.py:3579\u001b[0m in \u001b[1;35mrun_code\u001b[0m\n    exec(code_obj, self.user_global_ns, self.user_ns)\u001b[0m\n",
      "\u001b[0m  Cell \u001b[1;32mIn[23], line 1\u001b[0m\n    results = get_results(\"interpolated_complete_camorino.csv\", \"spearman\")\u001b[0m\n",
      "\u001b[0;36m  Cell \u001b[0;32mIn[16], line 15\u001b[0;36m in \u001b[0;35mget_results\u001b[0;36m\n\u001b[0;31m    dtw_dict = eval(dtw_cell_cleaned, safe_globals)\u001b[0;36m\n",
      "\u001b[0;36m  File \u001b[0;32m<string>:1\u001b[0;36m\u001b[0m\n\u001b[0;31m    {'Method': 'spearman', 'Results':                       Traffic_interpolated  PM10_interpolated  \\\u001b[0m\n\u001b[0m                                                            ^\u001b[0m\n\u001b[0;31mSyntaxError\u001b[0m\u001b[0;31m:\u001b[0m invalid syntax. Perhaps you forgot a comma?\n"
     ]
    }
   ],
   "source": [
    "results = get_results(\"interpolated_complete_camorino.csv\", \"spearman\")\n",
    "print(f\"Results: {results}\")"
   ]
  }
 ],
 "metadata": {
  "kernelspec": {
   "display_name": "Python 3",
   "language": "python",
   "name": "python3"
  },
  "language_info": {
   "codemirror_mode": {
    "name": "ipython",
    "version": 3
   },
   "file_extension": ".py",
   "mimetype": "text/x-python",
   "name": "python",
   "nbconvert_exporter": "python",
   "pygments_lexer": "ipython3",
   "version": "3.10.12"
  }
 },
 "nbformat": 4,
 "nbformat_minor": 5
}
