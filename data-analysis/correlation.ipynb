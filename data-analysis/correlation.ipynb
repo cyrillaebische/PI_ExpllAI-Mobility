{
 "cells": [
  {
   "cell_type": "code",
   "execution_count": 1,
   "id": "2533d0fa",
   "metadata": {},
   "outputs": [],
   "source": [
    "from dtaidistance import dtw\n",
    "from statsmodels.tsa.stattools import grangercausalitytests\n",
    "from sklearn.cross_decomposition import CCA\n",
    "from statsmodels.tsa.stattools import adfuller\n",
    "import pandas as pd\n",
    "import numpy as np\n",
    "import glob\n",
    "import os\n"
   ]
  },
  {
   "cell_type": "code",
   "execution_count": 2,
   "id": "5a66de2a",
   "metadata": {},
   "outputs": [],
   "source": [
    "# Compute DTW distance\n",
    "def dtw_distance(df):\n",
    "    \"\"\"\n",
    "    Compute the DTW distance between all pairs of time series in the dataframe.\n",
    "    Args:\n",
    "        df (pd.DataFrame): DataFrame containing time series data.\n",
    "    \"\"\"\n",
    "    series = []\n",
    "    \n",
    "    # extract time series from every column\n",
    "    for i, col in enumerate(df.columns):\n",
    "        # print(\"Column = \", i, col)\n",
    "        series.append(df[col].values)\n",
    "    \n",
    "    # loop over series' to compute distances between each series\n",
    "    num_series = len(series)\n",
    "    results = np.zeros((num_series, num_series))\n",
    "    for j in range(num_series):\n",
    "        for l in range(num_series):\n",
    "            results[j, l] = dtw.distance(series[j], series[l])\n",
    "            # print(f\"DTW Distance between series {j} and series {l} is: {results[j, l]}\")\n",
    "        \n",
    "    # return distance\n",
    "    return results\n",
    "\n",
    "# Compute DTW distance BUT z-NORM FIRST\n",
    "def dtw_distance_norm(df):\n",
    "    \"\"\"\n",
    "    Compute the DTW distance between all pairs of time series in the dataframe.\n",
    "    Args:\n",
    "        df (pd.DataFrame): DataFrame containing time series data.\n",
    "    \"\"\"\n",
    "    series = []\n",
    "    \n",
    "    # extract time series from every column\n",
    "    for i, col in enumerate(df.columns):\n",
    "        # normalize series with z-norm\n",
    "        values = df[col].values\n",
    "        z_norm = (values - np.mean(values)) / np.std(values) # znorm = (z - mean) / std\n",
    "        series.append(z_norm)\n",
    "    \n",
    "    # loop over series' to compute distances between each series\n",
    "    num_series = len(series)\n",
    "    results = np.zeros((num_series, num_series))\n",
    "    for j in range(num_series):\n",
    "        for l in range(num_series):\n",
    "            results[j, l] = dtw.distance(series[j], series[l])\n",
    "            # print(f\"DTW Distance between series {j} and series {l} is: {results[j, l]}\")\n",
    "        \n",
    "    # return distance\n",
    "    return results\n",
    "\n",
    "def grangercasuality(df, max_lag = 12):\n",
    "    # TIMESERIES MUST BE STATIONARY!\n",
    "    # here we check for stationarity, if not we take the difference per column\n",
    "    stationary_cols = {}\n",
    "    for col in df.columns:\n",
    "        result = adfuller(df[col].dropna())\n",
    "        stationary = result[1] < 0.05\n",
    "        print(f\"{col}: p-value = {result[1]:.4f} -> {'Stationary' if result[1] < 0.05 else 'Non-stationary'}\")\n",
    "        stationary_cols[col] = stationary\n",
    "    df_stationary = df.copy()\n",
    "    for col in df.columns:\n",
    "        if not stationary_cols[col]:\n",
    "            df_stationary[col] = df[col].diff()\n",
    "    df_stationary = df_stationary.dropna()\n",
    "\n",
    "    granger_results = []\n",
    "    # Loop over all pairs (excluding self-pairs)\n",
    "    for col_x in df_stationary.columns:\n",
    "        for col_y in df_stationary.columns:\n",
    "            if col_x != col_y:\n",
    "                test_data = df_stationary[[col_y, col_x]]\n",
    "                try:\n",
    "                    res = grangercausalitytests(test_data, maxlag=max_lag, verbose=False)\n",
    "                    p_vals = [round(res[lag][0]['ssr_ftest'][1], 4) for lag in range(1, max_lag + 1)]\n",
    "                    granger_results.append({\n",
    "                        'cause': col_x,\n",
    "                        'effect': col_y,\n",
    "                        'p_values': p_vals\n",
    "                    })\n",
    "                except Exception as e:\n",
    "                    print(f\"Error processing {col_x} and {col_y}: {e}\")\n",
    "    return granger_results\n",
    "\n",
    "    \n",
    "    \n",
    "\n",
    "\n",
    "\n",
    "\n",
    "\n",
    "\n"
   ]
  },
  {
   "cell_type": "markdown",
   "id": "f74bfeff",
   "metadata": {},
   "source": [
    "#### On interpolated underlying data"
   ]
  },
  {
   "cell_type": "code",
   "execution_count": 3,
   "id": "e89a7c32",
   "metadata": {},
   "outputs": [
    {
     "name": "stdout",
     "output_type": "stream",
     "text": [
      "Traffic_interpolated: p-value = 0.2444 -> Non-stationary\n",
      "CO (mg/m³)_interpolated: p-value = 0.0632 -> Non-stationary\n"
     ]
    },
    {
     "name": "stderr",
     "output_type": "stream",
     "text": [
      "/home/cyrill/.local/lib/python3.10/site-packages/statsmodels/tsa/stattools.py:1556: FutureWarning: verbose is deprecated since functions should not print results\n",
      "  warnings.warn(\n",
      "/home/cyrill/.local/lib/python3.10/site-packages/statsmodels/tsa/stattools.py:1556: FutureWarning: verbose is deprecated since functions should not print results\n",
      "  warnings.warn(\n"
     ]
    },
    {
     "name": "stdout",
     "output_type": "stream",
     "text": [
      "Traffic_interpolated: p-value = 0.0084 -> Stationary\n",
      "CO (mg/m³)_interpolated: p-value = 0.4720 -> Non-stationary\n"
     ]
    },
    {
     "name": "stderr",
     "output_type": "stream",
     "text": [
      "/home/cyrill/.local/lib/python3.10/site-packages/statsmodels/tsa/stattools.py:1556: FutureWarning: verbose is deprecated since functions should not print results\n",
      "  warnings.warn(\n",
      "/home/cyrill/.local/lib/python3.10/site-packages/statsmodels/tsa/stattools.py:1556: FutureWarning: verbose is deprecated since functions should not print results\n",
      "  warnings.warn(\n"
     ]
    },
    {
     "name": "stdout",
     "output_type": "stream",
     "text": [
      "Traffic_interpolated: p-value = 0.0000 -> Stationary\n",
      "PM10_interpolated: p-value = 0.0000 -> Stationary\n",
      "NO2_interpolated: p-value = 0.1052 -> Non-stationary\n",
      "O3_interpolated: p-value = 0.2276 -> Non-stationary\n"
     ]
    },
    {
     "name": "stderr",
     "output_type": "stream",
     "text": [
      "/home/cyrill/.local/lib/python3.10/site-packages/statsmodels/tsa/stattools.py:1556: FutureWarning: verbose is deprecated since functions should not print results\n",
      "  warnings.warn(\n",
      "/home/cyrill/.local/lib/python3.10/site-packages/statsmodels/tsa/stattools.py:1556: FutureWarning: verbose is deprecated since functions should not print results\n",
      "  warnings.warn(\n",
      "/home/cyrill/.local/lib/python3.10/site-packages/statsmodels/tsa/stattools.py:1556: FutureWarning: verbose is deprecated since functions should not print results\n",
      "  warnings.warn(\n",
      "/home/cyrill/.local/lib/python3.10/site-packages/statsmodels/tsa/stattools.py:1556: FutureWarning: verbose is deprecated since functions should not print results\n",
      "  warnings.warn(\n",
      "/home/cyrill/.local/lib/python3.10/site-packages/statsmodels/tsa/stattools.py:1556: FutureWarning: verbose is deprecated since functions should not print results\n",
      "  warnings.warn(\n",
      "/home/cyrill/.local/lib/python3.10/site-packages/statsmodels/tsa/stattools.py:1556: FutureWarning: verbose is deprecated since functions should not print results\n",
      "  warnings.warn(\n",
      "/home/cyrill/.local/lib/python3.10/site-packages/statsmodels/tsa/stattools.py:1556: FutureWarning: verbose is deprecated since functions should not print results\n",
      "  warnings.warn(\n",
      "/home/cyrill/.local/lib/python3.10/site-packages/statsmodels/tsa/stattools.py:1556: FutureWarning: verbose is deprecated since functions should not print results\n",
      "  warnings.warn(\n",
      "/home/cyrill/.local/lib/python3.10/site-packages/statsmodels/tsa/stattools.py:1556: FutureWarning: verbose is deprecated since functions should not print results\n",
      "  warnings.warn(\n",
      "/home/cyrill/.local/lib/python3.10/site-packages/statsmodels/tsa/stattools.py:1556: FutureWarning: verbose is deprecated since functions should not print results\n",
      "  warnings.warn(\n",
      "/home/cyrill/.local/lib/python3.10/site-packages/statsmodels/tsa/stattools.py:1556: FutureWarning: verbose is deprecated since functions should not print results\n",
      "  warnings.warn(\n",
      "/home/cyrill/.local/lib/python3.10/site-packages/statsmodels/tsa/stattools.py:1556: FutureWarning: verbose is deprecated since functions should not print results\n",
      "  warnings.warn(\n"
     ]
    },
    {
     "name": "stdout",
     "output_type": "stream",
     "text": [
      "Traffic_interpolated: p-value = 0.0000 -> Stationary\n",
      "PM10_interpolated: p-value = 0.0000 -> Stationary\n",
      "NO2_interpolated: p-value = 0.1052 -> Non-stationary\n",
      "O3_interpolated: p-value = 0.2276 -> Non-stationary\n"
     ]
    },
    {
     "name": "stderr",
     "output_type": "stream",
     "text": [
      "/home/cyrill/.local/lib/python3.10/site-packages/statsmodels/tsa/stattools.py:1556: FutureWarning: verbose is deprecated since functions should not print results\n",
      "  warnings.warn(\n",
      "/home/cyrill/.local/lib/python3.10/site-packages/statsmodels/tsa/stattools.py:1556: FutureWarning: verbose is deprecated since functions should not print results\n",
      "  warnings.warn(\n",
      "/home/cyrill/.local/lib/python3.10/site-packages/statsmodels/tsa/stattools.py:1556: FutureWarning: verbose is deprecated since functions should not print results\n",
      "  warnings.warn(\n",
      "/home/cyrill/.local/lib/python3.10/site-packages/statsmodels/tsa/stattools.py:1556: FutureWarning: verbose is deprecated since functions should not print results\n",
      "  warnings.warn(\n",
      "/home/cyrill/.local/lib/python3.10/site-packages/statsmodels/tsa/stattools.py:1556: FutureWarning: verbose is deprecated since functions should not print results\n",
      "  warnings.warn(\n",
      "/home/cyrill/.local/lib/python3.10/site-packages/statsmodels/tsa/stattools.py:1556: FutureWarning: verbose is deprecated since functions should not print results\n",
      "  warnings.warn(\n",
      "/home/cyrill/.local/lib/python3.10/site-packages/statsmodels/tsa/stattools.py:1556: FutureWarning: verbose is deprecated since functions should not print results\n",
      "  warnings.warn(\n",
      "/home/cyrill/.local/lib/python3.10/site-packages/statsmodels/tsa/stattools.py:1556: FutureWarning: verbose is deprecated since functions should not print results\n",
      "  warnings.warn(\n",
      "/home/cyrill/.local/lib/python3.10/site-packages/statsmodels/tsa/stattools.py:1556: FutureWarning: verbose is deprecated since functions should not print results\n",
      "  warnings.warn(\n",
      "/home/cyrill/.local/lib/python3.10/site-packages/statsmodels/tsa/stattools.py:1556: FutureWarning: verbose is deprecated since functions should not print results\n",
      "  warnings.warn(\n",
      "/home/cyrill/.local/lib/python3.10/site-packages/statsmodels/tsa/stattools.py:1556: FutureWarning: verbose is deprecated since functions should not print results\n",
      "  warnings.warn(\n",
      "/home/cyrill/.local/lib/python3.10/site-packages/statsmodels/tsa/stattools.py:1556: FutureWarning: verbose is deprecated since functions should not print results\n",
      "  warnings.warn(\n"
     ]
    },
    {
     "name": "stdout",
     "output_type": "stream",
     "text": [
      "Traffic_interpolated: p-value = 0.1438 -> Non-stationary\n",
      "PM10_interpolated: p-value = 0.2747 -> Non-stationary\n",
      "NO2_interpolated: p-value = 0.4957 -> Non-stationary\n",
      "PM2.5_interpolated: p-value = 0.5285 -> Non-stationary\n"
     ]
    },
    {
     "name": "stderr",
     "output_type": "stream",
     "text": [
      "/home/cyrill/.local/lib/python3.10/site-packages/statsmodels/tsa/stattools.py:1556: FutureWarning: verbose is deprecated since functions should not print results\n",
      "  warnings.warn(\n",
      "/home/cyrill/.local/lib/python3.10/site-packages/statsmodels/tsa/stattools.py:1556: FutureWarning: verbose is deprecated since functions should not print results\n",
      "  warnings.warn(\n",
      "/home/cyrill/.local/lib/python3.10/site-packages/statsmodels/tsa/stattools.py:1556: FutureWarning: verbose is deprecated since functions should not print results\n",
      "  warnings.warn(\n",
      "/home/cyrill/.local/lib/python3.10/site-packages/statsmodels/tsa/stattools.py:1556: FutureWarning: verbose is deprecated since functions should not print results\n",
      "  warnings.warn(\n",
      "/home/cyrill/.local/lib/python3.10/site-packages/statsmodels/tsa/stattools.py:1556: FutureWarning: verbose is deprecated since functions should not print results\n",
      "  warnings.warn(\n",
      "/home/cyrill/.local/lib/python3.10/site-packages/statsmodels/tsa/stattools.py:1556: FutureWarning: verbose is deprecated since functions should not print results\n",
      "  warnings.warn(\n",
      "/home/cyrill/.local/lib/python3.10/site-packages/statsmodels/tsa/stattools.py:1556: FutureWarning: verbose is deprecated since functions should not print results\n",
      "  warnings.warn(\n",
      "/home/cyrill/.local/lib/python3.10/site-packages/statsmodels/tsa/stattools.py:1556: FutureWarning: verbose is deprecated since functions should not print results\n",
      "  warnings.warn(\n",
      "/home/cyrill/.local/lib/python3.10/site-packages/statsmodels/tsa/stattools.py:1556: FutureWarning: verbose is deprecated since functions should not print results\n",
      "  warnings.warn(\n",
      "/home/cyrill/.local/lib/python3.10/site-packages/statsmodels/tsa/stattools.py:1556: FutureWarning: verbose is deprecated since functions should not print results\n",
      "  warnings.warn(\n",
      "/home/cyrill/.local/lib/python3.10/site-packages/statsmodels/tsa/stattools.py:1556: FutureWarning: verbose is deprecated since functions should not print results\n",
      "  warnings.warn(\n",
      "/home/cyrill/.local/lib/python3.10/site-packages/statsmodels/tsa/stattools.py:1556: FutureWarning: verbose is deprecated since functions should not print results\n",
      "  warnings.warn(\n"
     ]
    },
    {
     "name": "stdout",
     "output_type": "stream",
     "text": [
      "Traffic_interpolated: p-value = 0.5068 -> Non-stationary\n",
      "PM10_interpolated: p-value = 0.3111 -> Non-stationary\n",
      "O3_interpolated: p-value = 0.0123 -> Stationary\n",
      "NO2_interpolated: p-value = 0.8035 -> Non-stationary\n"
     ]
    },
    {
     "name": "stderr",
     "output_type": "stream",
     "text": [
      "/home/cyrill/.local/lib/python3.10/site-packages/statsmodels/tsa/stattools.py:1556: FutureWarning: verbose is deprecated since functions should not print results\n",
      "  warnings.warn(\n",
      "/home/cyrill/.local/lib/python3.10/site-packages/statsmodels/tsa/stattools.py:1556: FutureWarning: verbose is deprecated since functions should not print results\n",
      "  warnings.warn(\n",
      "/home/cyrill/.local/lib/python3.10/site-packages/statsmodels/tsa/stattools.py:1556: FutureWarning: verbose is deprecated since functions should not print results\n",
      "  warnings.warn(\n",
      "/home/cyrill/.local/lib/python3.10/site-packages/statsmodels/tsa/stattools.py:1556: FutureWarning: verbose is deprecated since functions should not print results\n",
      "  warnings.warn(\n",
      "/home/cyrill/.local/lib/python3.10/site-packages/statsmodels/tsa/stattools.py:1556: FutureWarning: verbose is deprecated since functions should not print results\n",
      "  warnings.warn(\n",
      "/home/cyrill/.local/lib/python3.10/site-packages/statsmodels/tsa/stattools.py:1556: FutureWarning: verbose is deprecated since functions should not print results\n",
      "  warnings.warn(\n",
      "/home/cyrill/.local/lib/python3.10/site-packages/statsmodels/tsa/stattools.py:1556: FutureWarning: verbose is deprecated since functions should not print results\n",
      "  warnings.warn(\n",
      "/home/cyrill/.local/lib/python3.10/site-packages/statsmodels/tsa/stattools.py:1556: FutureWarning: verbose is deprecated since functions should not print results\n",
      "  warnings.warn(\n",
      "/home/cyrill/.local/lib/python3.10/site-packages/statsmodels/tsa/stattools.py:1556: FutureWarning: verbose is deprecated since functions should not print results\n",
      "  warnings.warn(\n",
      "/home/cyrill/.local/lib/python3.10/site-packages/statsmodels/tsa/stattools.py:1556: FutureWarning: verbose is deprecated since functions should not print results\n",
      "  warnings.warn(\n",
      "/home/cyrill/.local/lib/python3.10/site-packages/statsmodels/tsa/stattools.py:1556: FutureWarning: verbose is deprecated since functions should not print results\n",
      "  warnings.warn(\n",
      "/home/cyrill/.local/lib/python3.10/site-packages/statsmodels/tsa/stattools.py:1556: FutureWarning: verbose is deprecated since functions should not print results\n",
      "  warnings.warn(\n"
     ]
    }
   ],
   "source": [
    "# Correlation matrix for Spearman, Pearson, DTW and Granger\n",
    "file_path = \"data/processed/interpolated_and_trends\"\n",
    "files = glob.glob(os.path.join(file_path, \"interpolated_complete_*.csv\"))\n",
    "methods = ['spearman', 'pearson', 'dtw', 'dtw_norm', 'granger']\n",
    "\n",
    "all_corr_results = {}   # all results of all files\n",
    "\n",
    "for file in files:\n",
    "    df = pd.read_csv(file)\n",
    "    df_drop = df[[col for col in df.columns if \"interpolated\" in col]]\n",
    "    corr_results = []       # results of one file\n",
    "    \n",
    "    for method in methods:\n",
    "        if method in ['spearman', 'pearson']:\n",
    "            corr_res = df_drop.corr(method=method)\n",
    "            corr_results.append({'Method': method, 'Results': corr_res})\n",
    "        elif method == 'dtw':\n",
    "            dtw_distances = dtw_distance(df_drop)   # returns a 2D np-array\n",
    "            corr_results.append({'Method': method, 'Results': dtw_distances})\n",
    "        elif method == 'dtw_norm':\n",
    "            dtw_norm_distances = dtw_distance_norm(df_drop)   # returns a 2D np-array\n",
    "            corr_results.append({'Method': method, 'Results': dtw_norm_distances})\n",
    "        elif method == 'granger':\n",
    "            granger_res = grangercasuality(df_drop, max_lag=12)  # returns list of dicts with max_lag p-values\n",
    "            corr_results.append({'Method': method, 'Results': granger_res})\n",
    "        \n",
    "    all_corr_results[os.path.basename(file)] = corr_results\n"
   ]
  },
  {
   "cell_type": "markdown",
   "id": "e47888a5",
   "metadata": {},
   "source": [
    "#### On decomposed Trend data"
   ]
  },
  {
   "cell_type": "code",
   "execution_count": null,
   "id": "aa03ecc6",
   "metadata": {},
   "outputs": [],
   "source": [
    "# same on the Trend data\n",
    "#-------------------------------------------------------------------\n",
    "# Correlation matrix for Spearman, Pearson, DTW and Granger\n",
    "file_path = \"data/processed/interpolated_and_trends\"\n",
    "files = glob.glob(os.path.join(file_path, \"trends_*.csv\"))\n",
    "methods = ['spearman', 'pearson', 'dtw', 'granger']\n",
    "\n",
    "trends_corr_results = {}   # all results of all files\n",
    "\n",
    "for file in files:\n",
    "    df = pd.read_csv(file)\n",
    "    #df_drop = df[[col for col in df.columns if \"interpolated\" in col]]\n",
    "    corr_results = []       # results of one file\n",
    "    \n",
    "    for method in methods:\n",
    "        if method in ['spearman', 'pearson']:\n",
    "            corr_res = df.corr(method=method)\n",
    "            corr_results.append({'Method': method, 'Results': corr_res})\n",
    "        elif method == 'dtw':\n",
    "            dtw_distances = dtw_distance(df)   # returns a 2D np-array\n",
    "            corr_results.append({'Method': method, 'Results': dtw_distances})\n",
    "        elif method == 'granger':\n",
    "            granger_res = grangercasuality(df, max_lag=12)  # returns list of dicts with max_lag p-values\n",
    "            corr_results.append({'Method': method, 'Results': granger_res})\n",
    "        \n",
    "    trends_corr_results[os.path.basename(file)] = corr_results\n"
   ]
  },
  {
   "cell_type": "markdown",
   "id": "dc907c5d",
   "metadata": {},
   "source": []
  }
 ],
 "metadata": {
  "kernelspec": {
   "display_name": "Python 3",
   "language": "python",
   "name": "python3"
  },
  "language_info": {
   "codemirror_mode": {
    "name": "ipython",
    "version": 3
   },
   "file_extension": ".py",
   "mimetype": "text/x-python",
   "name": "python",
   "nbconvert_exporter": "python",
   "pygments_lexer": "ipython3",
   "version": "3.10.12"
  }
 },
 "nbformat": 4,
 "nbformat_minor": 5
}
